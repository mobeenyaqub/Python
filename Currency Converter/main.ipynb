{
 "cells": [
  {
   "cell_type": "markdown",
   "id": "1ca69fed",
   "metadata": {},
   "source": [
    "# Import packages"
   ]
  },
  {
   "cell_type": "code",
   "execution_count": 1,
   "id": "0874c084",
   "metadata": {},
   "outputs": [],
   "source": [
    "from tkinter import *\n",
    "from tkinter import ttk\n",
    "import requests\n",
    "import iso4217parse"
   ]
  },
  {
   "cell_type": "markdown",
   "id": "0dad5835",
   "metadata": {},
   "source": [
    "# Fetch API response"
   ]
  },
  {
   "cell_type": "code",
   "execution_count": 2,
   "id": "c1f8b00a",
   "metadata": {},
   "outputs": [],
   "source": [
    "URL = \"https://openexchangerates.org/api/latest.json?app_id=3a7a1d3d1f97409ab8c24a9d8239808c\"\n",
    "response = requests.get(URL).json()"
   ]
  },
  {
   "cell_type": "markdown",
   "id": "0d1cfd74",
   "metadata": {},
   "source": [
    "# Initialize tkinter window"
   ]
  },
  {
   "cell_type": "code",
   "execution_count": 3,
   "id": "60df7b0a",
   "metadata": {},
   "outputs": [],
   "source": [
    "window = Tk()\n",
    "window.title(\"Currency Converter\")\n",
    "window.config(padx=50, pady=20, bg=\"#1F2124\")"
   ]
  },
  {
   "cell_type": "markdown",
   "id": "ae9526ed",
   "metadata": {},
   "source": [
    "# Main heading of GUI"
   ]
  },
  {
   "cell_type": "code",
   "execution_count": 4,
   "id": "a9aee2c7",
   "metadata": {},
   "outputs": [],
   "source": [
    "heading = Label(text=\"Currency Converter\", font=(\"Arial\", 24, \"bold\"), fg=\"#F0F0FF\", bg=\"#1F2124\")\n",
    "heading.grid(column=2, row=1, pady=20)"
   ]
  },
  {
   "cell_type": "markdown",
   "id": "361d6a38",
   "metadata": {},
   "source": [
    "# Initializing currencies to use in the program"
   ]
  },
  {
   "cell_type": "code",
   "execution_count": 5,
   "id": "dc407b29",
   "metadata": {},
   "outputs": [],
   "source": [
    "currencies = sorted(f\"{iso4217parse.parse(c)[0][2].title()} ({c})\" for c in sorted(response[\"rates\"].keys()))"
   ]
  },
  {
   "cell_type": "markdown",
   "id": "8834fcb8",
   "metadata": {},
   "source": [
    "# Labeling and setting the dropdown/combobox for currency selection"
   ]
  },
  {
   "cell_type": "code",
   "execution_count": 6,
   "id": "06cc607d",
   "metadata": {},
   "outputs": [],
   "source": [
    "n = StringVar()\n",
    "currency_select_label = Label(text=\"Select Currency\", font=(\"Arial\", 14, \"underline\"), bg=\"#1F2124\", fg=\"#ffffff\")\n",
    "currency_select_label.grid(column=2, row=2, pady=10)\n",
    "currency_select = ttk.Combobox(window, values=currencies, width=45, textvariable=n)\n",
    "currency_select.grid(column=2, row=3)"
   ]
  },
  {
   "cell_type": "markdown",
   "id": "2a0a76ab",
   "metadata": {},
   "source": [
    "# Entry box for user to enter amount he/she wants to convert"
   ]
  },
  {
   "cell_type": "code",
   "execution_count": 7,
   "id": "91549b35",
   "metadata": {},
   "outputs": [],
   "source": [
    "enter_amount = Label(text=\"Enter amount\", font=(\"Arial\", 14, \"italic\", \"underline\"), bg=\"#1F2124\", fg=\"#ffffff\")\n",
    "enter_amount.grid(column=2, row=4, pady=10)\n",
    "amount_to_convert = Entry(width=25)\n",
    "amount_to_convert.grid(column=2, row=5)"
   ]
  },
  {
   "cell_type": "markdown",
   "id": "999546b1",
   "metadata": {},
   "source": [
    "# Dropdown for currency to convert into"
   ]
  },
  {
   "cell_type": "code",
   "execution_count": 8,
   "id": "8318246d",
   "metadata": {},
   "outputs": [],
   "source": [
    "convert_into_label = Label(text=f\"Convert currency into\", font=(\"Arial\", 14, \"underline\"), bg=\"#1F2124\", fg=\"#ffffff\")\n",
    "convert_into_label.grid(column=2, row=6, pady=10)\n",
    "m = StringVar()\n",
    "convert_into = ttk.Combobox(window, values=currencies, width=45, textvariable=m)\n",
    "convert_into.grid(column=2, row=7)\n",
    "converted = Label()"
   ]
  },
  {
   "cell_type": "markdown",
   "id": "80ebe279",
   "metadata": {},
   "source": [
    "# Currency Convert button function"
   ]
  },
  {
   "cell_type": "code",
   "execution_count": 9,
   "id": "341c7d26",
   "metadata": {},
   "outputs": [],
   "source": [
    "def convert():\n",
    "    global converted\n",
    "    # converted currency label\n",
    "    converted = Label(font=(\"Arial\", 11, \"bold\"), fg=\"#ffffff\", bg=\"#1F2124\", pady=10)\n",
    "\n",
    "    try:\n",
    "        # save amount\n",
    "        amount = int(amount_to_convert.get())\n",
    "\n",
    "        # saving the user input of currency to convert from\n",
    "        currency_1 = currency_select.get()[-4:-1]\n",
    "\n",
    "        # saving the currency to convert to\n",
    "        currency_2 = convert_into.get()[-4:-1]\n",
    "\n",
    "        # fetch required values from API rates\n",
    "        val_c1, val_c2 = response[\"rates\"][currency_1], response[\"rates\"][currency_2]\n",
    "\n",
    "        # display converted currency\n",
    "        converted.config(\n",
    "            text=f\"\\n1 {currency_1} = {round(val_c2 / val_c1, 4)} {currency_2}\\n\\n{amount:,.2f} {currency_1}\"\n",
    "                 f\" = {round(val_c2 / val_c1 * amount, 2):,.2f} {currency_2}\")\n",
    "        converted.grid(column=2, row=8)\n",
    "    except:\n",
    "        pass"
   ]
  },
  {
   "cell_type": "markdown",
   "id": "46ba8a0e",
   "metadata": {},
   "source": [
    "# Convert currency button"
   ]
  },
  {
   "cell_type": "code",
   "execution_count": 10,
   "id": "a1c9748a",
   "metadata": {},
   "outputs": [],
   "source": [
    "convert_button = Button(text=\"Convert\", width=12, font=(\"Arial\", 20, \"bold\"), command=convert)\n",
    "convert_button.grid(column=2, row=9, pady=25)"
   ]
  },
  {
   "cell_type": "markdown",
   "id": "b31cebad",
   "metadata": {},
   "source": [
    "# Reset button function"
   ]
  },
  {
   "cell_type": "code",
   "execution_count": 11,
   "id": "ad47447e",
   "metadata": {},
   "outputs": [],
   "source": [
    "def reset():\n",
    "    # reset all the states\n",
    "    currency_select.delete(0, \"end\")\n",
    "    convert_into.delete(0, \"end\")\n",
    "    amount_to_convert.delete(0, \"end\")\n",
    "    converted.destroy()"
   ]
  },
  {
   "cell_type": "markdown",
   "id": "1bca471d",
   "metadata": {},
   "source": [
    "# Reset button"
   ]
  },
  {
   "cell_type": "code",
   "execution_count": 12,
   "id": "1b9b511e",
   "metadata": {},
   "outputs": [],
   "source": [
    "reset_button = Button(text=\"Reset\", width=10, font=(\"Arial\", 15, \"bold\"), command=reset, bg=\"#FF0000\", border=0)\n",
    "reset_button.grid(column=2, row=10, pady=20)"
   ]
  },
  {
   "cell_type": "markdown",
   "id": "a4f4bd92",
   "metadata": {},
   "source": [
    "# Tkinter window loop"
   ]
  },
  {
   "cell_type": "code",
   "execution_count": 13,
   "id": "40e436bf",
   "metadata": {},
   "outputs": [],
   "source": [
    "window.mainloop()"
   ]
  }
 ],
 "metadata": {
  "kernelspec": {
   "display_name": "Python 3 (ipykernel)",
   "language": "python",
   "name": "python3"
  },
  "language_info": {
   "codemirror_mode": {
    "name": "ipython",
    "version": 3
   },
   "file_extension": ".py",
   "mimetype": "text/x-python",
   "name": "python",
   "nbconvert_exporter": "python",
   "pygments_lexer": "ipython3",
   "version": "3.9.12"
  }
 },
 "nbformat": 4,
 "nbformat_minor": 5
}
